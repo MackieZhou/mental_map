{
 "cells": [
  {
   "cell_type": "code",
   "execution_count": 1,
   "metadata": {
    "collapsed": true
   },
   "outputs": [],
   "source": [
    "import pandas as pd"
   ]
  },
  {
   "cell_type": "code",
   "execution_count": 2,
   "outputs": [
    {
     "name": "stderr",
     "output_type": "stream",
     "text": [
      "<ipython-input-2-90a8e4f59841>:3: FutureWarning: Starting with Pandas version 2.0 all arguments of read_excel except for the first 2 arguments will be keyword-only\n",
      "  test = pd.read_excel(\"data/ProPara.xlsx\", 11, 0, engine=\"openpyxl\")\n"
     ]
    }
   ],
   "source": [
    "train = pd.read_excel(\"data/ProPara.xlsx\", 9, engine=\"openpyxl\")\n",
    "dev = pd.read_excel(\"data/ProPara.xlsx\", 10, engine=\"openpyxl\")\n",
    "test = pd.read_excel(\"data/ProPara.xlsx\", 11, 0, engine=\"openpyxl\")"
   ],
   "metadata": {
    "collapsed": false,
    "pycharm": {
     "name": "#%%\n"
    }
   }
  },
  {
   "cell_type": "code",
   "execution_count": 3,
   "outputs": [
    {
     "data": {
      "text/plain": "     PID  StepNo  enables  FStepNo  \\\n0  550.0     0.0      NaN      NaN   \n1  550.0     1.0  enables      2.0   \n2  550.0     2.0      NaN      NaN   \n3  550.0     3.0      NaN      NaN   \n4  550.0     4.0      NaN      NaN   \n\n                                                Step enables.1  \\\n0               PROMPT: Describe how the liver works       NaN   \n1                        Blood is sent to the liver.   enables   \n2  The liver uses chemicals and proteins to treat...       NaN   \n3                              The blood is cleaned.       NaN   \n4                                Energy is produced.       NaN   \n\n                                               FStep State Change Entity  \\\n0                                                NaN          NaN    NaN   \n1  The liver uses chemicals and proteins to treat...         Move  blood   \n2                                                NaN          NaN    NaN   \n3                                                NaN          NaN    NaN   \n4                                                NaN          NaN    NaN   \n\n  FromLoc  ... Unnamed: 16 Unnamed: 17  Unnamed: 18  Unnamed: 19  Unnamed: 20  \\\n0     NaN  ...         NaN         NaN          NaN          NaN          NaN   \n1     unk  ...         NaN         NaN          NaN          NaN          NaN   \n2     NaN  ...         NaN         NaN          NaN          NaN          NaN   \n3     NaN  ...         NaN         NaN          NaN          NaN          NaN   \n4     NaN  ...         NaN         NaN          NaN          NaN          NaN   \n\n   Unnamed: 21  Unnamed: 22  Unnamed: 23  Unnamed: 24  Unnamed: 25  \n0          NaN          NaN          NaN          NaN          NaN  \n1          NaN          NaN          NaN          NaN          NaN  \n2          NaN          NaN          NaN          NaN          NaN  \n3          NaN          NaN          NaN          NaN          NaN  \n4          NaN          NaN          NaN          NaN          NaN  \n\n[5 rows x 26 columns]",
      "text/html": "<div>\n<style scoped>\n    .dataframe tbody tr th:only-of-type {\n        vertical-align: middle;\n    }\n\n    .dataframe tbody tr th {\n        vertical-align: top;\n    }\n\n    .dataframe thead th {\n        text-align: right;\n    }\n</style>\n<table border=\"1\" class=\"dataframe\">\n  <thead>\n    <tr style=\"text-align: right;\">\n      <th></th>\n      <th>PID</th>\n      <th>StepNo</th>\n      <th>enables</th>\n      <th>FStepNo</th>\n      <th>Step</th>\n      <th>enables.1</th>\n      <th>FStep</th>\n      <th>State Change</th>\n      <th>Entity</th>\n      <th>FromLoc</th>\n      <th>...</th>\n      <th>Unnamed: 16</th>\n      <th>Unnamed: 17</th>\n      <th>Unnamed: 18</th>\n      <th>Unnamed: 19</th>\n      <th>Unnamed: 20</th>\n      <th>Unnamed: 21</th>\n      <th>Unnamed: 22</th>\n      <th>Unnamed: 23</th>\n      <th>Unnamed: 24</th>\n      <th>Unnamed: 25</th>\n    </tr>\n  </thead>\n  <tbody>\n    <tr>\n      <th>0</th>\n      <td>550.0</td>\n      <td>0.0</td>\n      <td>NaN</td>\n      <td>NaN</td>\n      <td>PROMPT: Describe how the liver works</td>\n      <td>NaN</td>\n      <td>NaN</td>\n      <td>NaN</td>\n      <td>NaN</td>\n      <td>NaN</td>\n      <td>...</td>\n      <td>NaN</td>\n      <td>NaN</td>\n      <td>NaN</td>\n      <td>NaN</td>\n      <td>NaN</td>\n      <td>NaN</td>\n      <td>NaN</td>\n      <td>NaN</td>\n      <td>NaN</td>\n      <td>NaN</td>\n    </tr>\n    <tr>\n      <th>1</th>\n      <td>550.0</td>\n      <td>1.0</td>\n      <td>enables</td>\n      <td>2.0</td>\n      <td>Blood is sent to the liver.</td>\n      <td>enables</td>\n      <td>The liver uses chemicals and proteins to treat...</td>\n      <td>Move</td>\n      <td>blood</td>\n      <td>unk</td>\n      <td>...</td>\n      <td>NaN</td>\n      <td>NaN</td>\n      <td>NaN</td>\n      <td>NaN</td>\n      <td>NaN</td>\n      <td>NaN</td>\n      <td>NaN</td>\n      <td>NaN</td>\n      <td>NaN</td>\n      <td>NaN</td>\n    </tr>\n    <tr>\n      <th>2</th>\n      <td>550.0</td>\n      <td>2.0</td>\n      <td>NaN</td>\n      <td>NaN</td>\n      <td>The liver uses chemicals and proteins to treat...</td>\n      <td>NaN</td>\n      <td>NaN</td>\n      <td>NaN</td>\n      <td>NaN</td>\n      <td>NaN</td>\n      <td>...</td>\n      <td>NaN</td>\n      <td>NaN</td>\n      <td>NaN</td>\n      <td>NaN</td>\n      <td>NaN</td>\n      <td>NaN</td>\n      <td>NaN</td>\n      <td>NaN</td>\n      <td>NaN</td>\n      <td>NaN</td>\n    </tr>\n    <tr>\n      <th>3</th>\n      <td>550.0</td>\n      <td>3.0</td>\n      <td>NaN</td>\n      <td>NaN</td>\n      <td>The blood is cleaned.</td>\n      <td>NaN</td>\n      <td>NaN</td>\n      <td>NaN</td>\n      <td>NaN</td>\n      <td>NaN</td>\n      <td>...</td>\n      <td>NaN</td>\n      <td>NaN</td>\n      <td>NaN</td>\n      <td>NaN</td>\n      <td>NaN</td>\n      <td>NaN</td>\n      <td>NaN</td>\n      <td>NaN</td>\n      <td>NaN</td>\n      <td>NaN</td>\n    </tr>\n    <tr>\n      <th>4</th>\n      <td>550.0</td>\n      <td>4.0</td>\n      <td>NaN</td>\n      <td>NaN</td>\n      <td>Energy is produced.</td>\n      <td>NaN</td>\n      <td>NaN</td>\n      <td>NaN</td>\n      <td>NaN</td>\n      <td>NaN</td>\n      <td>...</td>\n      <td>NaN</td>\n      <td>NaN</td>\n      <td>NaN</td>\n      <td>NaN</td>\n      <td>NaN</td>\n      <td>NaN</td>\n      <td>NaN</td>\n      <td>NaN</td>\n      <td>NaN</td>\n      <td>NaN</td>\n    </tr>\n  </tbody>\n</table>\n<p>5 rows × 26 columns</p>\n</div>"
     },
     "execution_count": 3,
     "metadata": {},
     "output_type": "execute_result"
    }
   ],
   "source": [
    "train.head()"
   ],
   "metadata": {
    "collapsed": false,
    "pycharm": {
     "name": "#%%\n"
    }
   }
  },
  {
   "cell_type": "code",
   "execution_count": 4,
   "outputs": [
    {
     "data": {
      "text/plain": "      PID  StepNo  enables  FStepNo  \\\n25  708.0     7.0  enables      8.0   \n40  609.0     1.0  enables      2.0   \n50  349.0     3.0  enables      4.0   \n52  349.0     5.0  enables      6.0   \n60  430.0     4.0  enables      5.0   \n\n                                                 Step enables.1  \\\n25                      Metamorphic rock gets buried.   enables   \n40  The piston starts at the top, the intake valve...   enables   \n50                     The sound waves hit an object.   enables   \n52  Some of the sound waves bounce off of the object.   enables   \n60                  Trash is put out at the curbside.   enables   \n\n                                                FStep State Change  \\\n25               Buried metamorphic rock gets melted.         Move   \n40  Then the piston moves back up to compress this...         Move   \n50        The object absorbs some of the sound waves.         Move   \n52  The reflected sound waves can be heard, though...         Move   \n60                       The city collects the trash.         Move   \n\n                 Entity FromLoc  ... Unnamed: 16 Unnamed: 17  Unnamed: 18  \\\n25     metamorphic rock     unk  ...         NaN         NaN          NaN   \n40                  air     unk  ...         NaN         NaN          NaN   \n50  sound ; sound waves     unk  ...         NaN         NaN          NaN   \n52  sound ; sound waves  object  ...         NaN         NaN          NaN   \n60                trash   house  ...         NaN         NaN          NaN   \n\n    Unnamed: 19  Unnamed: 20  Unnamed: 21  Unnamed: 22  Unnamed: 23  \\\n25          NaN          NaN          NaN          NaN          NaN   \n40          NaN          NaN          NaN          NaN          NaN   \n50          NaN          NaN          NaN          NaN          NaN   \n52          NaN          NaN          NaN          NaN          NaN   \n60          NaN          NaN          NaN          NaN          NaN   \n\n    Unnamed: 24  Unnamed: 25  \n25          NaN          NaN  \n40          NaN          NaN  \n50          NaN          NaN  \n52          NaN          NaN  \n60          NaN          NaN  \n\n[5 rows x 26 columns]",
      "text/html": "<div>\n<style scoped>\n    .dataframe tbody tr th:only-of-type {\n        vertical-align: middle;\n    }\n\n    .dataframe tbody tr th {\n        vertical-align: top;\n    }\n\n    .dataframe thead th {\n        text-align: right;\n    }\n</style>\n<table border=\"1\" class=\"dataframe\">\n  <thead>\n    <tr style=\"text-align: right;\">\n      <th></th>\n      <th>PID</th>\n      <th>StepNo</th>\n      <th>enables</th>\n      <th>FStepNo</th>\n      <th>Step</th>\n      <th>enables.1</th>\n      <th>FStep</th>\n      <th>State Change</th>\n      <th>Entity</th>\n      <th>FromLoc</th>\n      <th>...</th>\n      <th>Unnamed: 16</th>\n      <th>Unnamed: 17</th>\n      <th>Unnamed: 18</th>\n      <th>Unnamed: 19</th>\n      <th>Unnamed: 20</th>\n      <th>Unnamed: 21</th>\n      <th>Unnamed: 22</th>\n      <th>Unnamed: 23</th>\n      <th>Unnamed: 24</th>\n      <th>Unnamed: 25</th>\n    </tr>\n  </thead>\n  <tbody>\n    <tr>\n      <th>25</th>\n      <td>708.0</td>\n      <td>7.0</td>\n      <td>enables</td>\n      <td>8.0</td>\n      <td>Metamorphic rock gets buried.</td>\n      <td>enables</td>\n      <td>Buried metamorphic rock gets melted.</td>\n      <td>Move</td>\n      <td>metamorphic rock</td>\n      <td>unk</td>\n      <td>...</td>\n      <td>NaN</td>\n      <td>NaN</td>\n      <td>NaN</td>\n      <td>NaN</td>\n      <td>NaN</td>\n      <td>NaN</td>\n      <td>NaN</td>\n      <td>NaN</td>\n      <td>NaN</td>\n      <td>NaN</td>\n    </tr>\n    <tr>\n      <th>40</th>\n      <td>609.0</td>\n      <td>1.0</td>\n      <td>enables</td>\n      <td>2.0</td>\n      <td>The piston starts at the top, the intake valve...</td>\n      <td>enables</td>\n      <td>Then the piston moves back up to compress this...</td>\n      <td>Move</td>\n      <td>air</td>\n      <td>unk</td>\n      <td>...</td>\n      <td>NaN</td>\n      <td>NaN</td>\n      <td>NaN</td>\n      <td>NaN</td>\n      <td>NaN</td>\n      <td>NaN</td>\n      <td>NaN</td>\n      <td>NaN</td>\n      <td>NaN</td>\n      <td>NaN</td>\n    </tr>\n    <tr>\n      <th>50</th>\n      <td>349.0</td>\n      <td>3.0</td>\n      <td>enables</td>\n      <td>4.0</td>\n      <td>The sound waves hit an object.</td>\n      <td>enables</td>\n      <td>The object absorbs some of the sound waves.</td>\n      <td>Move</td>\n      <td>sound ; sound waves</td>\n      <td>unk</td>\n      <td>...</td>\n      <td>NaN</td>\n      <td>NaN</td>\n      <td>NaN</td>\n      <td>NaN</td>\n      <td>NaN</td>\n      <td>NaN</td>\n      <td>NaN</td>\n      <td>NaN</td>\n      <td>NaN</td>\n      <td>NaN</td>\n    </tr>\n    <tr>\n      <th>52</th>\n      <td>349.0</td>\n      <td>5.0</td>\n      <td>enables</td>\n      <td>6.0</td>\n      <td>Some of the sound waves bounce off of the object.</td>\n      <td>enables</td>\n      <td>The reflected sound waves can be heard, though...</td>\n      <td>Move</td>\n      <td>sound ; sound waves</td>\n      <td>object</td>\n      <td>...</td>\n      <td>NaN</td>\n      <td>NaN</td>\n      <td>NaN</td>\n      <td>NaN</td>\n      <td>NaN</td>\n      <td>NaN</td>\n      <td>NaN</td>\n      <td>NaN</td>\n      <td>NaN</td>\n      <td>NaN</td>\n    </tr>\n    <tr>\n      <th>60</th>\n      <td>430.0</td>\n      <td>4.0</td>\n      <td>enables</td>\n      <td>5.0</td>\n      <td>Trash is put out at the curbside.</td>\n      <td>enables</td>\n      <td>The city collects the trash.</td>\n      <td>Move</td>\n      <td>trash</td>\n      <td>house</td>\n      <td>...</td>\n      <td>NaN</td>\n      <td>NaN</td>\n      <td>NaN</td>\n      <td>NaN</td>\n      <td>NaN</td>\n      <td>NaN</td>\n      <td>NaN</td>\n      <td>NaN</td>\n      <td>NaN</td>\n      <td>NaN</td>\n    </tr>\n  </tbody>\n</table>\n<p>5 rows × 26 columns</p>\n</div>"
     },
     "execution_count": 4,
     "metadata": {},
     "output_type": "execute_result"
    }
   ],
   "source": [
    "train_move = train[train[\"State Change\"]==\"Move\"]\n",
    "dev_move = dev[dev[\"State Change\"]==\"Move\"]\n",
    "test_move = test[test[\"State Change\"]==\"Move\"]\n",
    "\n",
    "dev_move.head()"
   ],
   "metadata": {
    "collapsed": false,
    "pycharm": {
     "name": "#%%\n"
    }
   }
  },
  {
   "cell_type": "code",
   "execution_count": 7,
   "outputs": [
    {
     "data": {
      "text/plain": "   index    PID  StepNo  enables  FStepNo  \\\n0      1  550.0     1.0  enables      2.0   \n1     19  433.0     4.0  enables      5.0   \n2     21  433.0     6.0  enables      8.0   \n3     28  846.0     3.0  enables      4.0   \n4     29  846.0     4.0  enables      5.0   \n\n                                                Step enables.1  \\\n0                        Blood is sent to the liver.   enables   \n1                          Put the seed in the hole.   enables   \n2                                 Cover up the hole.   enables   \n3      The liver releases waste in the form of urea.   enables   \n4  The blood carries the urea and carbon dioxide ...   enables   \n\n                                               FStep State Change  \\\n0  The liver uses chemicals and proteins to treat...         Move   \n1              Pour some water on the seed and hold.         Move   \n2                       Spray some plant food on it.         Move   \n3  The blood carries the urea and carbon dioxide ...         Move   \n4  The kidneys strain the urea and salts needed f...         Move   \n\n         Entity  ... Unnamed: 16 Unnamed: 17 Unnamed: 18  Unnamed: 19  \\\n0         blood  ...         NaN         NaN         NaN          NaN   \n1          seed  ...         NaN         NaN         NaN          NaN   \n2          seed  ...         NaN         NaN         NaN          NaN   \n3  waste ; urea  ...         NaN         NaN         NaN          NaN   \n4  waste ; urea  ...         NaN         NaN         NaN          NaN   \n\n   Unnamed: 20  Unnamed: 21  Unnamed: 22  Unnamed: 23  Unnamed: 24  \\\n0          NaN          NaN          NaN          NaN          NaN   \n1          NaN          NaN          NaN          NaN          NaN   \n2          NaN          NaN          NaN          NaN          NaN   \n3          NaN          NaN          NaN          NaN          NaN   \n4          NaN          NaN          NaN          NaN          NaN   \n\n   Unnamed: 25  \n0          NaN  \n1          NaN  \n2          NaN  \n3          NaN  \n4          NaN  \n\n[5 rows x 27 columns]",
      "text/html": "<div>\n<style scoped>\n    .dataframe tbody tr th:only-of-type {\n        vertical-align: middle;\n    }\n\n    .dataframe tbody tr th {\n        vertical-align: top;\n    }\n\n    .dataframe thead th {\n        text-align: right;\n    }\n</style>\n<table border=\"1\" class=\"dataframe\">\n  <thead>\n    <tr style=\"text-align: right;\">\n      <th></th>\n      <th>index</th>\n      <th>PID</th>\n      <th>StepNo</th>\n      <th>enables</th>\n      <th>FStepNo</th>\n      <th>Step</th>\n      <th>enables.1</th>\n      <th>FStep</th>\n      <th>State Change</th>\n      <th>Entity</th>\n      <th>...</th>\n      <th>Unnamed: 16</th>\n      <th>Unnamed: 17</th>\n      <th>Unnamed: 18</th>\n      <th>Unnamed: 19</th>\n      <th>Unnamed: 20</th>\n      <th>Unnamed: 21</th>\n      <th>Unnamed: 22</th>\n      <th>Unnamed: 23</th>\n      <th>Unnamed: 24</th>\n      <th>Unnamed: 25</th>\n    </tr>\n  </thead>\n  <tbody>\n    <tr>\n      <th>0</th>\n      <td>1</td>\n      <td>550.0</td>\n      <td>1.0</td>\n      <td>enables</td>\n      <td>2.0</td>\n      <td>Blood is sent to the liver.</td>\n      <td>enables</td>\n      <td>The liver uses chemicals and proteins to treat...</td>\n      <td>Move</td>\n      <td>blood</td>\n      <td>...</td>\n      <td>NaN</td>\n      <td>NaN</td>\n      <td>NaN</td>\n      <td>NaN</td>\n      <td>NaN</td>\n      <td>NaN</td>\n      <td>NaN</td>\n      <td>NaN</td>\n      <td>NaN</td>\n      <td>NaN</td>\n    </tr>\n    <tr>\n      <th>1</th>\n      <td>19</td>\n      <td>433.0</td>\n      <td>4.0</td>\n      <td>enables</td>\n      <td>5.0</td>\n      <td>Put the seed in the hole.</td>\n      <td>enables</td>\n      <td>Pour some water on the seed and hold.</td>\n      <td>Move</td>\n      <td>seed</td>\n      <td>...</td>\n      <td>NaN</td>\n      <td>NaN</td>\n      <td>NaN</td>\n      <td>NaN</td>\n      <td>NaN</td>\n      <td>NaN</td>\n      <td>NaN</td>\n      <td>NaN</td>\n      <td>NaN</td>\n      <td>NaN</td>\n    </tr>\n    <tr>\n      <th>2</th>\n      <td>21</td>\n      <td>433.0</td>\n      <td>6.0</td>\n      <td>enables</td>\n      <td>8.0</td>\n      <td>Cover up the hole.</td>\n      <td>enables</td>\n      <td>Spray some plant food on it.</td>\n      <td>Move</td>\n      <td>seed</td>\n      <td>...</td>\n      <td>NaN</td>\n      <td>NaN</td>\n      <td>NaN</td>\n      <td>NaN</td>\n      <td>NaN</td>\n      <td>NaN</td>\n      <td>NaN</td>\n      <td>NaN</td>\n      <td>NaN</td>\n      <td>NaN</td>\n    </tr>\n    <tr>\n      <th>3</th>\n      <td>28</td>\n      <td>846.0</td>\n      <td>3.0</td>\n      <td>enables</td>\n      <td>4.0</td>\n      <td>The liver releases waste in the form of urea.</td>\n      <td>enables</td>\n      <td>The blood carries the urea and carbon dioxide ...</td>\n      <td>Move</td>\n      <td>waste ; urea</td>\n      <td>...</td>\n      <td>NaN</td>\n      <td>NaN</td>\n      <td>NaN</td>\n      <td>NaN</td>\n      <td>NaN</td>\n      <td>NaN</td>\n      <td>NaN</td>\n      <td>NaN</td>\n      <td>NaN</td>\n      <td>NaN</td>\n    </tr>\n    <tr>\n      <th>4</th>\n      <td>29</td>\n      <td>846.0</td>\n      <td>4.0</td>\n      <td>enables</td>\n      <td>5.0</td>\n      <td>The blood carries the urea and carbon dioxide ...</td>\n      <td>enables</td>\n      <td>The kidneys strain the urea and salts needed f...</td>\n      <td>Move</td>\n      <td>waste ; urea</td>\n      <td>...</td>\n      <td>NaN</td>\n      <td>NaN</td>\n      <td>NaN</td>\n      <td>NaN</td>\n      <td>NaN</td>\n      <td>NaN</td>\n      <td>NaN</td>\n      <td>NaN</td>\n      <td>NaN</td>\n      <td>NaN</td>\n    </tr>\n  </tbody>\n</table>\n<p>5 rows × 27 columns</p>\n</div>"
     },
     "execution_count": 7,
     "metadata": {},
     "output_type": "execute_result"
    }
   ],
   "source": [
    "all_move = pd.concat([train_move, dev_move, test_move])\n",
    "all_move.reset_index(inplace=True)\n",
    "all_move.head()"
   ],
   "metadata": {
    "collapsed": false,
    "pycharm": {
     "name": "#%%\n"
    }
   }
  },
  {
   "cell_type": "code",
   "execution_count": 8,
   "outputs": [],
   "source": [
    "all_move.to_excel(\"data/all_move_reindex.xlsx\", \"move\")"
   ],
   "metadata": {
    "collapsed": false,
    "pycharm": {
     "name": "#%%\n"
    }
   }
  }
 ],
 "metadata": {
  "kernelspec": {
   "display_name": "Python 3",
   "language": "python",
   "name": "python3"
  },
  "language_info": {
   "codemirror_mode": {
    "name": "ipython",
    "version": 2
   },
   "file_extension": ".py",
   "mimetype": "text/x-python",
   "name": "python",
   "nbconvert_exporter": "python",
   "pygments_lexer": "ipython2",
   "version": "2.7.6"
  }
 },
 "nbformat": 4,
 "nbformat_minor": 0
}